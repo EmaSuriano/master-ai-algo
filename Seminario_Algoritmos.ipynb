{
  "cells": [
    {
      "cell_type": "markdown",
      "metadata": {
        "id": "hVbXYX-RfPWh"
      },
      "source": [
        "# Algoritmos de optimización - Seminario<br>\n",
        "Nombre y Apellidos:   <br>\n",
        "Url: https://github.com/.../03MAIR---Algoritmos-de-Optimizacion---2019/tree/master/SEMINARIO<br>\n",
        "Problema:\n",
        "> 1. Sesiones de doblaje <br>\n",
        ">2. Organizar los horarios de partidos de La Liga<br>\n",
        ">3. Combinar cifras y operaciones\n",
        "\n",
        "Descripción del problema:(copiar enunciado)\n",
        "\n",
        "....\n",
        "\n",
        "(*) La respuesta es obligatoria\n",
        "\n",
        "\n",
        "\n",
        "\n",
        "\n",
        "                                        "
      ]
    },
    {
      "cell_type": "markdown",
      "metadata": {},
      "source": [
        "Problema 1. Organizar sesiones de doblaje(I)\n",
        "\n",
        "- Se precisa coordinar el doblaje de una película. Los actores del doblaje deben coincidir en las tomas en las que sus personajes aparecen juntos en las diferentes tomas.\n",
        "- Los actores de doblaje cobran toda la misma cantidad por cada día que deben desplazarse hasta el estudio de grabación independientemente del número de tomas que se graben.\n",
        "- No es posible grabar más de 6 tomas por día.\n",
        "- El objetivo es planificar las sesiones por día de manera que el gasto por los servicios de los actores de doblaje sea el menor posible. Los datos son:\n"
      ]
    },
    {
      "cell_type": "markdown",
      "metadata": {
        "id": "3_-exlrTgLd-"
      },
      "source": [
        "(*)¿Cuantas posibilidades hay sin tener en cuenta las restricciones?<br>\n",
        "\n",
        "\n",
        "\n",
        "¿Cuantas posibilidades hay teniendo en cuenta todas las restricciones.\n",
        "\n",
        "\n"
      ]
    },
    {
      "cell_type": "markdown",
      "metadata": {
        "id": "WfCUqJyKhPcw"
      },
      "source": [
        "Respuesta"
      ]
    },
    {
      "cell_type": "code",
      "execution_count": 1,
      "metadata": {
        "id": "iq6Fe32MgpDX"
      },
      "outputs": [],
      "source": [
        "# A completar!"
      ]
    },
    {
      "cell_type": "markdown",
      "metadata": {
        "id": "dzynfVJahHoY"
      },
      "source": [
        "Modelo para el espacio de soluciones<br>\n",
        "(*) ¿Cual es la estructura de datos que mejor se adapta al problema? Argumentalo.(Es posible que hayas elegido una al principio y veas la necesidad de cambiar, arguentalo)\n"
      ]
    },
    {
      "cell_type": "markdown",
      "metadata": {
        "id": "xFIJrOwKi2Ti"
      },
      "source": [
        "Respuesta"
      ]
    },
    {
      "cell_type": "markdown",
      "metadata": {},
      "source": [
        "Vamos a utilizar una matriz (lista de lista) para representar la tabla de tomas y actores, donde cada item dentro de la lista representa un toma y a su vez, cada toma contiene los actores que participan.\n",
        "\n",
        "```python\n",
        "example_schedule = [\n",
        "    [1, 1, 1, 1, 1, 0, 0, 0, 0, 0], # toma 1 con actores 1, 2, 3, 4 y 5\n",
        "    [0, 0, 1, 1, 1, 0, 0, 0, 0, 0], # toma 1 con actores 3, 4 y 5\n",
        "    ...\n",
        "]\n",
        "```\n",
        "\n",
        "Para representar el resultado final, es decir la planificacion de sesiones por dia, vamos a utilizar de nuevo una matriz.\n",
        "\n",
        "```python\n",
        "result = [\n",
        "  [0,1,2], # dia 1 con las tomas 1, 2 y 3\n",
        "  [3,5], # toma 2 con los actores 1 y 4\n",
        "]\n",
        "```\n"
      ]
    },
    {
      "cell_type": "markdown",
      "metadata": {
        "id": "7Z9U2W7bi-XS"
      },
      "source": [
        "Según el modelo para el espacio de soluciones<br>\n",
        "(*)¿Cual es la función objetivo?\n",
        "\n",
        "(*)¿Es un problema de maximización o minimización?"
      ]
    },
    {
      "cell_type": "markdown",
      "metadata": {
        "id": "hBalWLM7j1_d"
      },
      "source": [
        "Respuesta"
      ]
    },
    {
      "cell_type": "code",
      "execution_count": 2,
      "metadata": {
        "id": "pDA-rg3Gj5Lz"
      },
      "outputs": [],
      "source": [
        "# A completar!"
      ]
    },
    {
      "cell_type": "markdown",
      "metadata": {},
      "source": [
        "Funciones Base para los algoritmos"
      ]
    },
    {
      "cell_type": "code",
      "execution_count": 2,
      "metadata": {
        "id": "CJb5sQ0qkENy"
      },
      "outputs": [
        {
          "data": {
            "text/plain": [
              "[[28, 21],\n",
              " [7, 8, 10, 3],\n",
              " [26, 6, 24, 14, 4],\n",
              " [15, 13, 12],\n",
              " [5, 0, 17, 9],\n",
              " [23, 25],\n",
              " [29],\n",
              " [2, 18],\n",
              " [11],\n",
              " [1, 27, 22, 20],\n",
              " [16],\n",
              " [19]]"
            ]
          },
          "metadata": {},
          "output_type": "display_data"
        },
        {
          "data": {
            "text/plain": [
              "630"
            ]
          },
          "metadata": {},
          "output_type": "display_data"
        }
      ],
      "source": [
        "import random\n",
        "\n",
        "# app constant\n",
        "max_takes_per_day = 6\n",
        "cost_per_actor = 10\n",
        "\n",
        "# Taken from demo\n",
        "test_schedule = [\n",
        "    [1, 1, 1, 1, 1, 0, 0, 0, 0, 0],\n",
        "    [0, 0, 1, 1, 1, 0, 0, 0, 0, 0],\n",
        "    [0, 1, 0, 0, 1, 0, 1, 0, 0, 0],\n",
        "    [1, 1, 0, 0, 0, 0, 1, 1, 0, 0],\n",
        "    [0, 1, 0, 1, 0, 0, 0, 1, 0, 0],\n",
        "    [1, 1, 0, 1, 1, 0, 0, 0, 0, 0],\n",
        "    [1, 1, 0, 1, 1, 0, 0, 0, 0, 0],\n",
        "    [1, 1, 0, 0, 0, 1, 0, 0, 0, 0],\n",
        "    [1, 1, 0, 1, 0, 0, 0, 0, 0, 0],\n",
        "    [1, 1, 0, 0, 0, 1, 0, 0, 1, 0],\n",
        "    [1, 1, 1, 0, 1, 0, 0, 1, 0, 0],\n",
        "    [1, 1, 1, 1, 0, 1, 0, 0, 0, 0],\n",
        "    [1, 0, 0, 1, 1, 0, 0, 0, 0, 0],\n",
        "    [1, 0, 1, 0, 0, 1, 0, 0, 0, 0],\n",
        "    [1, 1, 0, 0, 0, 0, 1, 0, 0, 0],\n",
        "    [0, 0, 0, 1, 0, 0, 0, 0, 0, 1],\n",
        "    [1, 0, 1, 0, 0, 0, 0, 0, 0, 0],\n",
        "    [0, 0, 1, 0, 0, 1, 0, 0, 0, 0],\n",
        "    [1, 0, 1, 0, 0, 0, 0, 0, 0, 0],\n",
        "    [1, 0, 1, 1, 1, 0, 0, 0, 0, 0],\n",
        "    [0, 0, 0, 0, 0, 1, 0, 1, 0, 0],\n",
        "    [1, 1, 1, 1, 0, 0, 0, 0, 0, 0],\n",
        "    [1, 0, 1, 0, 0, 0, 0, 0, 0, 0],\n",
        "    [0, 0, 1, 0, 0, 1, 0, 0, 0, 0],\n",
        "    [1, 1, 0, 1, 0, 0, 0, 0, 0, 1],\n",
        "    [1, 0, 1, 0, 1, 0, 0, 0, 1, 0],\n",
        "    [0, 0, 0, 1, 1, 0, 0, 0, 0, 0],\n",
        "    [1, 0, 0, 1, 0, 0, 0, 0, 0, 0],\n",
        "    [1, 0, 0, 0, 1, 1, 0, 0, 0, 0],\n",
        "    [1, 0, 0, 1, 0, 0, 0, 0, 0, 0],\n",
        "]\n",
        "\n",
        "\n",
        "def get_cost(planning: list[list], schedule: list[list]) -> int:\n",
        "    \"\"\"Calculate total cost for a given planning\n",
        "\n",
        "    - `planning`: list of array of takes, where each item represents a day\n",
        "    - `schedule`: list of array of actors per take, where each item represents one take\n",
        "    \"\"\"\n",
        "    cost = 0\n",
        "\n",
        "    for day in planning:\n",
        "        # Obtain array of actors per take\n",
        "        actors_per_take = [schedule[take] for take in day]\n",
        "\n",
        "        # Union of all actors in that day: ACTORS_TAKE_1 OR ACTORS_TAKE_2 OR ACTORS_TAKE_N\n",
        "        actors_in_day = [int(any(i)) for i in zip(*actors_per_take)]\n",
        "\n",
        "        # Count the actors in that day and multiply by cost\n",
        "        cost += actors_in_day.count(1) * cost_per_actor\n",
        "\n",
        "    return cost\n",
        "\n",
        "\n",
        "def get_planning(schedule: list[list]) -> list[list]:\n",
        "    \"\"\"Get a random planning given a schedule\"\"\"\n",
        "    # Get empty planning\n",
        "    planning = []\n",
        "\n",
        "    # Use schedule as a set of the ids\n",
        "    schedule_set = set(range(len(schedule)))\n",
        "\n",
        "    # continue until we schedule all the takes\n",
        "    while len(schedule_set) > 0:\n",
        "        # max amount of takes per day\n",
        "        max_amount = (\n",
        "            max_takes_per_day\n",
        "            if max_takes_per_day <= len(schedule_set)\n",
        "            else len(schedule_set)\n",
        "        )\n",
        "\n",
        "        # having different takes by day\n",
        "        takes_amount = random.choice(range(1, max_amount)) if max_amount > 1 else 1\n",
        "\n",
        "        # obtain take id from schedule\n",
        "        takes = random.sample(list(schedule_set), takes_amount)\n",
        "\n",
        "        # add them to the planning by day\n",
        "        planning.append(takes)\n",
        "\n",
        "        # remove takes from schedule\n",
        "        schedule_set -= set(takes)\n",
        "\n",
        "    return planning\n",
        "\n",
        "\n",
        "test_planning = get_planning(test_schedule)\n",
        "display(test_planning, get_cost(test_planning, test_schedule))"
      ]
    },
    {
      "cell_type": "markdown",
      "metadata": {
        "id": "rlnTYgY1j6I2"
      },
      "source": [
        "Diseña un algoritmo para resolver el problema por fuerza bruta"
      ]
    },
    {
      "cell_type": "markdown",
      "metadata": {
        "id": "70rDgxYXkC8r"
      },
      "source": [
        "Respuesta"
      ]
    },
    {
      "cell_type": "markdown",
      "metadata": {},
      "source": [
        "Version Directa"
      ]
    },
    {
      "cell_type": "code",
      "execution_count": 18,
      "metadata": {},
      "outputs": [
        {
          "data": {
            "text/plain": [
              "'Daily session planning'"
            ]
          },
          "metadata": {},
          "output_type": "display_data"
        },
        {
          "data": {
            "text/plain": [
              "[[0],\n",
              " [1],\n",
              " [2],\n",
              " [3],\n",
              " [4],\n",
              " [5],\n",
              " [6],\n",
              " [7],\n",
              " [8],\n",
              " [9],\n",
              " [10],\n",
              " [11],\n",
              " [12],\n",
              " [13],\n",
              " [14],\n",
              " [15],\n",
              " [16],\n",
              " [17],\n",
              " [18],\n",
              " [19],\n",
              " [20],\n",
              " [21],\n",
              " [22],\n",
              " [23],\n",
              " [24],\n",
              " [25],\n",
              " [26],\n",
              " [27],\n",
              " [28],\n",
              " [29]]"
            ]
          },
          "metadata": {},
          "output_type": "display_data"
        },
        {
          "name": "stdout",
          "output_type": "stream",
          "text": [
            "Total cost: 940\n"
          ]
        }
      ],
      "source": [
        "import itertools\n",
        "\n",
        "# Function to check if a set of takes is compatible with new takes\n",
        "def is_compatible(takes, schedule):\n",
        "    # Initialize a list to track which actors are present in the selected takes\n",
        "    actors_present = [0] * len(schedule[0])\n",
        "    # Iterate through the existing takes\n",
        "    for take in takes:\n",
        "        # Update actors_present based on the current take\n",
        "        for i in range(len(schedule[take])):\n",
        "            actors_present[i] |= schedule[take][i]\n",
        "    return actors_present\n",
        "\n",
        "# Brute force function to find the optimal schedule\n",
        "def brute_force_schedule(schedule):\n",
        "    # Get the number of takes\n",
        "    n_takes = len(schedule)\n",
        "    # Initialize the list to store the takes per day\n",
        "    days_schedule = []\n",
        "    \n",
        "    # Backtracking function to find valid combinations of takes per day\n",
        "    def backtrack(current_day, remaining_takes):\n",
        "        # If there are no remaining takes, return True\n",
        "        if not remaining_takes:\n",
        "            return True\n",
        "        \n",
        "        # Iterate through possible combinations of takes for the current day\n",
        "        for i in range(1, min(6, len(remaining_takes)) + 1):\n",
        "            # Generate all combinations of the remaining takes with size i\n",
        "            for combination in itertools.combinations(remaining_takes, i):\n",
        "                # Check if the current combination is compatible\n",
        "                actors_present = is_compatible(combination, schedule)\n",
        "                compatible = True\n",
        "                for j in range(len(actors_present)):\n",
        "                    if actors_present[j] > 1:\n",
        "                        compatible = False\n",
        "                        break\n",
        "                if compatible:\n",
        "                    # Add the combination to the days_schedule list\n",
        "                    days_schedule.append(list(combination))\n",
        "                    # Recur to the next day with the updated remaining takes\n",
        "                    if backtrack(current_day + 1, [take for take in remaining_takes if take not in combination]):\n",
        "                        return True\n",
        "                    # Remove the combination if it doesn't lead to a solution\n",
        "                    days_schedule.pop()\n",
        "        return False\n",
        "    \n",
        "    # Start the backtracking process from the first day\n",
        "    if backtrack(0, list(range(n_takes))):\n",
        "        return days_schedule\n",
        "    else:\n",
        "        return []\n",
        "\n",
        "result = brute_force_schedule(test_schedule)\n",
        "display(\"Daily session planning\", result)\n",
        "print(\"Total cost:\", get_cost(result, test_schedule))\n"
      ]
    },
    {
      "cell_type": "code",
      "execution_count": null,
      "metadata": {},
      "outputs": [],
      "source": [
        "import itertools\n",
        "\n",
        "# Function to check if a set of takes is compatible with each other\n",
        "def is_compatible(takes, schedule):\n",
        "    actors_present = [0] * len(schedule[0])\n",
        "    for take in takes:\n",
        "        for i in range(len(schedule[take])):\n",
        "            if actors_present[i] & schedule[take][i]:\n",
        "                return False\n",
        "            actors_present[i] |= schedule[take][i]\n",
        "    return True\n",
        "\n",
        "# Brute force function to find the optimal schedule with pruning and memoization\n",
        "def brute_force_schedule(schedule):\n",
        "    n_takes = len(schedule)\n",
        "    min_days = float('inf')\n",
        "    best_schedule = []\n",
        "    memo = {}\n",
        "\n",
        "    def backtrack(remaining_takes, current_schedule):\n",
        "        nonlocal min_days, best_schedule\n",
        "        if not remaining_takes:\n",
        "            if len(current_schedule) < min_days:\n",
        "                min_days = len(current_schedule)\n",
        "                best_schedule = current_schedule[:]\n",
        "            return\n",
        "\n",
        "        if len(current_schedule) >= min_days:\n",
        "            return\n",
        "\n",
        "        state = tuple(sorted(remaining_takes))\n",
        "        if state in memo and memo[state] <= len(current_schedule):\n",
        "            return\n",
        "        memo[state] = len(current_schedule)\n",
        "        \n",
        "        for i in range(1, min(6, len(remaining_takes)) + 1):\n",
        "            for combination in itertools.combinations(remaining_takes, i):\n",
        "                if is_compatible(combination, schedule):\n",
        "                    new_remaining_takes = [take for take in remaining_takes if take not in combination]\n",
        "                    new_schedule = current_schedule + [list(combination)]\n",
        "                    backtrack(new_remaining_takes, new_schedule)\n",
        "\n",
        "    backtrack(list(range(n_takes)), [])\n",
        "    \n",
        "    return best_schedule\n",
        "\n",
        "result = brute_force_schedule(test_schedule)\n",
        "display(\"Daily session planning\", result)\n",
        "print(\"Total cost:\", get_cost(result, test_schedule))"
      ]
    },
    {
      "cell_type": "markdown",
      "metadata": {
        "id": "tgrnsC2nkFa8"
      },
      "source": [
        "Calcula la complejidad del algoritmo por fuerza bruta"
      ]
    },
    {
      "cell_type": "markdown",
      "metadata": {
        "id": "9eUd3xwckP68"
      },
      "source": [
        "Respuesta"
      ]
    },
    {
      "cell_type": "code",
      "execution_count": 199,
      "metadata": {},
      "outputs": [
        {
          "data": {
            "text/plain": [
              "True"
            ]
          },
          "execution_count": 199,
          "metadata": {},
          "output_type": "execute_result"
        }
      ],
      "source": []
    },
    {
      "cell_type": "code",
      "execution_count": 9,
      "metadata": {
        "id": "rvZWwL-ckRST"
      },
      "outputs": [
        {
          "data": {
            "text/plain": [
              "'initial planning'"
            ]
          },
          "metadata": {},
          "output_type": "display_data"
        },
        {
          "data": {
            "text/plain": [
              "[[17, 13, 1, 15],\n",
              " [27, 10],\n",
              " [3, 0, 20, 4],\n",
              " [11, 22, 12],\n",
              " [6, 23, 9],\n",
              " [18, 25, 7, 29, 19],\n",
              " [28, 26, 14, 5, 8],\n",
              " [16, 2, 21],\n",
              " [24]]"
            ]
          },
          "metadata": {},
          "output_type": "display_data"
        },
        {
          "data": {
            "text/plain": [
              "'Distance'"
            ]
          },
          "metadata": {},
          "output_type": "display_data"
        },
        {
          "data": {
            "text/plain": [
              "560"
            ]
          },
          "metadata": {},
          "output_type": "display_data"
        },
        {
          "data": {
            "text/plain": [
              "'SA planning'"
            ]
          },
          "metadata": {},
          "output_type": "display_data"
        },
        {
          "data": {
            "text/plain": [
              "[[8, 12, 5, 24, 15, 27],\n",
              " [26, 14, 2, 3, 4, 6],\n",
              " [11, 0, 1, 19, 29, 21],\n",
              " [20, 10, 7, 28, 9, 25],\n",
              " [18, 16, 22, 17, 13, 23]]"
            ]
          },
          "metadata": {},
          "output_type": "display_data"
        },
        {
          "data": {
            "text/plain": [
              "'Distance'"
            ]
          },
          "metadata": {},
          "output_type": "display_data"
        },
        {
          "data": {
            "text/plain": [
              "270"
            ]
          },
          "metadata": {},
          "output_type": "display_data"
        }
      ],
      "source": [
        "import random\n",
        "import math\n",
        "\n",
        "\n",
        "def probability(temp: int, dist: int) -> bool:\n",
        "    return random.random() < math.exp(-1 * dist / temp)\n",
        "\n",
        "\n",
        "def dec_temp(temp: int) -> int:\n",
        "    return temp * 0.9999\n",
        "\n",
        "\n",
        "def split_list(items: list, n_parts: int, max_amount: int) -> list:\n",
        "    \"\"\"Split items into different parts\"\"\"\n",
        "    # copy of the list to avoid reference modification\n",
        "    items_copy = items[:]\n",
        "\n",
        "    # initialize parts with empty lists\n",
        "    parts = [[] for _ in range(n_parts)]\n",
        "\n",
        "    # continue until all the items have been properly distributed\n",
        "    while items_copy:\n",
        "        # pop item from array\n",
        "        item = items_copy.pop()\n",
        "\n",
        "        # use only available arrays\n",
        "        available_parts = [\n",
        "            index for index, value in enumerate(parts) if len(value) < max_amount\n",
        "        ]\n",
        "\n",
        "        # get random index and add item\n",
        "        i = random.choice(available_parts)\n",
        "        parts[i].append(item)\n",
        "\n",
        "    return parts\n",
        "\n",
        "\n",
        "def get_closest(planning: list[list]) -> list[list]:\n",
        "    \"\"\"Get closest random planning by swapping takes\"\"\"\n",
        "    # Making a deep copy of the list to avoid object modification\n",
        "    planning_copy = [lst[:] for lst in planning]\n",
        "\n",
        "    # get random days from planning\n",
        "    i, j = random.sample(range(len(planning)), 2)\n",
        "\n",
        "    # group all takes into a single array\n",
        "    all_takes = planning_copy[i] + planning_copy[j]\n",
        "\n",
        "    # distribute them between the days\n",
        "    planning_copy[i], planning_copy[j] = split_list(all_takes, 2, max_takes_per_day)\n",
        "\n",
        "    return planning_copy\n",
        "\n",
        "\n",
        "# We re-use the get_cost function to calculate the distance\n",
        "get_distance = get_cost\n",
        "\n",
        "\n",
        "# Using Simulated Annealing heuristic --> https://en.wikipedia.org/wiki/Simulated_annealing\n",
        "def get_planning_SA(schedule: list[list], temp=10000000) -> list[list]:\n",
        "    curr_plan = get_planning(schedule)\n",
        "    curr_plan_dist = get_distance(curr_plan, schedule)\n",
        "\n",
        "    display(\"initial planning\", curr_plan)\n",
        "    display(\"Distance\", get_distance(curr_plan, schedule))\n",
        "\n",
        "    # max values for possible result\n",
        "    best_plan = []\n",
        "    best_plan_dist = 10e10000\n",
        "\n",
        "    while temp > 0.0001:\n",
        "        closest = get_closest(curr_plan)\n",
        "        closest_dist = get_distance(closest, schedule)\n",
        "\n",
        "        if closest_dist < best_plan_dist:\n",
        "            best_plan = closest\n",
        "            best_plan_dist = closest_dist\n",
        "\n",
        "        dist_diff = abs(curr_plan_dist - closest_dist)\n",
        "        if closest_dist < curr_plan_dist or probability(temp, dist_diff):\n",
        "            curr_plan = closest\n",
        "            curr_plan_dist = closest_dist\n",
        "\n",
        "        temp = dec_temp(temp)\n",
        "\n",
        "    return list(filter(lambda day: len(day) > 0, best_plan))\n",
        "\n",
        "\n",
        "result = get_planning_SA(test_schedule)\n",
        "display(\"SA planning\", result)\n",
        "display(\"Distance\", get_distance(result, test_schedule))"
      ]
    },
    {
      "cell_type": "code",
      "execution_count": null,
      "metadata": {},
      "outputs": [],
      "source": []
    },
    {
      "cell_type": "markdown",
      "metadata": {
        "id": "txbrmLmskReM"
      },
      "source": [
        "(*)Diseña un algoritmo que mejore la complejidad del algortimo por fuerza bruta. Argumenta porque crees que mejora el algoritmo por fuerza bruta"
      ]
    },
    {
      "cell_type": "markdown",
      "metadata": {
        "id": "hLrVwt5QkZPD"
      },
      "source": [
        "Respuesta"
      ]
    },
    {
      "cell_type": "code",
      "execution_count": 201,
      "metadata": {
        "id": "m1eyM21Vkabg"
      },
      "outputs": [],
      "source": [
        "# A completar!"
      ]
    },
    {
      "cell_type": "markdown",
      "metadata": {
        "id": "eGDB4K6uk1iN"
      },
      "source": [
        "(*)Calcula la complejidad del algoritmo"
      ]
    },
    {
      "cell_type": "markdown",
      "metadata": {
        "id": "NhpTh_BPk1ms"
      },
      "source": [
        "Respuesta"
      ]
    },
    {
      "cell_type": "code",
      "execution_count": 202,
      "metadata": {
        "id": "nREzhkStlCq8"
      },
      "outputs": [],
      "source": [
        "# A completar!"
      ]
    },
    {
      "cell_type": "markdown",
      "metadata": {
        "id": "3M6QjTsSkmYe"
      },
      "source": [
        "Según el problema (y tenga sentido), diseña un juego de datos de entrada aleatorios"
      ]
    },
    {
      "cell_type": "markdown",
      "metadata": {
        "id": "Jc3_OlyNkvjZ"
      },
      "source": [
        "Respuesta"
      ]
    },
    {
      "cell_type": "code",
      "execution_count": 203,
      "metadata": {
        "id": "sJ-N2etjkyWc"
      },
      "outputs": [
        {
          "data": {
            "text/plain": [
              "[[1, 1, 1, 1],\n",
              " [0, 1, 1, 1],\n",
              " [1, 1, 1, 1],\n",
              " [0, 1, 1, 1],\n",
              " [1, 0, 1, 1],\n",
              " [0, 0, 1, 0],\n",
              " [1, 1, 1, 1],\n",
              " [0, 1, 1, 1],\n",
              " [0, 1, 0, 0],\n",
              " [0, 1, 0, 0],\n",
              " [1, 1, 0, 1],\n",
              " [0, 1, 1, 1],\n",
              " [1, 1, 1, 1],\n",
              " [0, 1, 0, 0],\n",
              " [1, 0, 0, 0],\n",
              " [0, 0, 0, 1],\n",
              " [0, 0, 1, 1],\n",
              " [0, 0, 1, 1],\n",
              " [1, 1, 1, 1],\n",
              " [0, 0, 1, 1]]"
            ]
          },
          "metadata": {},
          "output_type": "display_data"
        }
      ],
      "source": [
        "import random\n",
        "\n",
        "\n",
        "def generate_schedule(n_days: int, n_actor: int) -> list[list]:\n",
        "    # generate empty schedule\n",
        "    schedule = [[] for _ in list(range(n_days))]\n",
        "\n",
        "    # iterate over amount of days\n",
        "    for i in range(n_days):\n",
        "        # get random numbers of actors\n",
        "        actors = random.sample(range(n_actor), random.randint(1, n_actor))\n",
        "\n",
        "        # generate boolean array to store\n",
        "        take_schedule = [int(j in actors) for j in range(n_actor)]\n",
        "\n",
        "        # save in schedule\n",
        "        schedule[i] = take_schedule\n",
        "\n",
        "    return schedule\n",
        "\n",
        "\n",
        "display(generate_schedule(20, 4))"
      ]
    },
    {
      "cell_type": "markdown",
      "metadata": {
        "id": "zy5ZROmjlGo1"
      },
      "source": [
        "Aplica el algoritmo al juego de datos generado"
      ]
    },
    {
      "cell_type": "markdown",
      "metadata": {
        "id": "_Cmj-PVylMsa"
      },
      "source": [
        "Respuesta"
      ]
    },
    {
      "cell_type": "code",
      "execution_count": 204,
      "metadata": {
        "id": "Jkx8GeiYlUz1"
      },
      "outputs": [],
      "source": [
        "# A completar!"
      ]
    },
    {
      "cell_type": "markdown",
      "metadata": {
        "id": "eTFWUJQrtGcv"
      },
      "source": [
        "Enumera las referencias que has utilizado(si ha sido necesario) para llevar a cabo el trabajo"
      ]
    },
    {
      "cell_type": "markdown",
      "metadata": {
        "id": "YKQ_mRBttWsP"
      },
      "source": [
        "Respuesta"
      ]
    },
    {
      "cell_type": "markdown",
      "metadata": {
        "id": "kAkDPUyRtYyH"
      },
      "source": [
        "Describe brevemente las lineas de como crees que es posible avanzar en el estudio del problema. Ten en cuenta incluso posibles variaciones del problema y/o variaciones al alza del tamaño"
      ]
    },
    {
      "cell_type": "markdown",
      "metadata": {
        "id": "IE0uZmo-tZu-"
      },
      "source": [
        "Respuesta"
      ]
    }
  ],
  "metadata": {
    "colab": {
      "provenance": []
    },
    "kernelspec": {
      "display_name": "Python 3",
      "name": "python3"
    },
    "language_info": {
      "codemirror_mode": {
        "name": "ipython",
        "version": 3
      },
      "file_extension": ".py",
      "mimetype": "text/x-python",
      "name": "python",
      "nbconvert_exporter": "python",
      "pygments_lexer": "ipython3",
      "version": "3.10.5"
    }
  },
  "nbformat": 4,
  "nbformat_minor": 0
}

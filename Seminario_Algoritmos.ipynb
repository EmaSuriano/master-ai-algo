{
  "cells": [
    {
      "cell_type": "markdown",
      "metadata": {
        "id": "hVbXYX-RfPWh"
      },
      "source": [
        "# Algoritmos de optimización - Seminario<br>\n",
        "\n",
        "Nombre y Apellidos:\n",
        "\n",
        "- Julio Emanuel Suriano Bryk\n",
        "- José Fernández López\n",
        "\n",
        "Url: https://github.com/.../03MAIR---Algoritmos-de-Optimizacion---2019/tree/master/SEMINARIO\n",
        "\n",
        "Problema:\n",
        "\n",
        "> 1.  **Sesiones de doblaje**\n",
        "> 2.  Organizar los horarios de partidos de La Liga\n",
        "> 3.  Combinar cifras y operaciones\n",
        "\n",
        "Descripción del problema:(copiar enunciado)\n",
        "\n",
        "## Problema 1. Organizar sesiones de doblaje(I)\n",
        "\n",
        "- Se precisa coordinar el doblaje de una película. Los actores del doblaje deben coincidir en las tomas en las que sus personajes aparecen juntos en las diferentes tomas.\n",
        "- Los actores de doblaje cobran toda la misma cantidad por cada día que deben desplazarse hasta el estudio de grabación independientemente del número de tomas que se graben.\n",
        "- No es posible grabar más de 6 tomas por día.\n",
        "- El objetivo es planificar las sesiones por día de manera que el gasto por los servicios de los actores de doblaje sea el menor posible. Los datos son:\n",
        "\n",
        "(\\*) La respuesta es obligatoria\n"
      ]
    },
    {
      "cell_type": "markdown",
      "metadata": {
        "id": "3_-exlrTgLd-"
      },
      "source": [
        "(\\*)¿Cuantas posibilidades hay sin tener en cuenta las restricciones?<br>\n",
        "\n",
        "¿Cuantas posibilidades hay teniendo en cuenta todas las restricciones.\n"
      ]
    },
    {
      "cell_type": "code",
      "execution_count": 1,
      "metadata": {
        "id": "iq6Fe32MgpDX"
      },
      "outputs": [],
      "source": [
        "# A completar!"
      ]
    },
    {
      "cell_type": "markdown",
      "metadata": {
        "id": "dzynfVJahHoY"
      },
      "source": [
        "Modelo para el espacio de soluciones<br>\n",
        "(\\*) ¿Cual es la estructura de datos que mejor se adapta al problema? Argumentalo.(Es posible que hayas elegido una al principio y veas la necesidad de cambiar, arguentalo)\n"
      ]
    },
    {
      "cell_type": "markdown",
      "metadata": {},
      "source": [
        "**Justificación:** Vamos a utilizar una matriz (lista de lista) para representar la tabla de tomas y actores, donde cada item dentro de la lista representa un toma y a su vez, cada toma contiene los actores que participan.\n",
        "\n",
        "```python\n",
        "example_schedule = [\n",
        "    [1, 1, 1, 1, 1, 0, 0, 0, 0, 0], # toma 1 con actores 1, 2, 3, 4 y 5\n",
        "    [0, 0, 1, 1, 1, 0, 0, 0, 0, 0], # toma 1 con actores 3, 4 y 5\n",
        "    ...\n",
        "]\n",
        "```\n",
        "\n",
        "Para representar el resultado final, es decir la planificacion de sesiones por dia, vamos a utilizar de nuevo una matriz.\n",
        "\n",
        "```python\n",
        "result = [\n",
        "  [0,1,2], # dia 1 con las tomas 1, 2 y 3\n",
        "  [3,5], # toma 2 con los actores 1 y 4\n",
        "]\n",
        "```\n"
      ]
    },
    {
      "cell_type": "markdown",
      "metadata": {
        "id": "7Z9U2W7bi-XS"
      },
      "source": [
        "Según el modelo para el espacio de soluciones<br>\n",
        "(\\*)¿Cual es la función objetivo?\n",
        "\n",
        "(\\*)¿Es un problema de maximización o minimización?\n"
      ]
    },
    {
      "cell_type": "markdown",
      "metadata": {},
      "source": [
        "**Justificación:** Es un problema de minimización donde la función objetivo es obtener una planificación de los actores por día que contemple el menor coste posible.\n"
      ]
    },
    {
      "cell_type": "markdown",
      "metadata": {},
      "source": [
        "Funciones Base para los algoritmos\n"
      ]
    },
    {
      "cell_type": "code",
      "execution_count": 36,
      "metadata": {
        "id": "CJb5sQ0qkENy"
      },
      "outputs": [
        {
          "data": {
            "text/plain": [
              "[[7, 22],\n",
              " [27],\n",
              " [10, 1],\n",
              " [0, 17, 8, 15],\n",
              " [6, 16, 26, 14],\n",
              " [29],\n",
              " [4],\n",
              " [19],\n",
              " [12, 3, 28, 11],\n",
              " [23, 13],\n",
              " [24],\n",
              " [21],\n",
              " [20],\n",
              " [2],\n",
              " [18, 5],\n",
              " [9],\n",
              " [25]]"
            ]
          },
          "metadata": {},
          "output_type": "display_data"
        },
        {
          "data": {
            "text/plain": [
              "710"
            ]
          },
          "metadata": {},
          "output_type": "display_data"
        },
        {
          "data": {
            "text/plain": [
              "[1, 1, 1, 1, 1, 0, 0, 0, 0, 0]"
            ]
          },
          "execution_count": 36,
          "metadata": {},
          "output_type": "execute_result"
        }
      ],
      "source": [
        "import random\n",
        "\n",
        "# app constant\n",
        "max_takes_per_day = 6\n",
        "cost_per_actor = 10\n",
        "\n",
        "# Taken from demo\n",
        "test_schedule = [\n",
        "    [1, 1, 1, 1, 1, 0, 0, 0, 0, 0],\n",
        "    [0, 0, 1, 1, 1, 0, 0, 0, 0, 0],\n",
        "    [0, 1, 0, 0, 1, 0, 1, 0, 0, 0],\n",
        "    [1, 1, 0, 0, 0, 0, 1, 1, 0, 0],\n",
        "    [0, 1, 0, 1, 0, 0, 0, 1, 0, 0],\n",
        "    [1, 1, 0, 1, 1, 0, 0, 0, 0, 0],\n",
        "    [1, 1, 0, 1, 1, 0, 0, 0, 0, 0],\n",
        "    [1, 1, 0, 0, 0, 1, 0, 0, 0, 0],\n",
        "    [1, 1, 0, 1, 0, 0, 0, 0, 0, 0],\n",
        "    [1, 1, 0, 0, 0, 1, 0, 0, 1, 0],\n",
        "    [1, 1, 1, 0, 1, 0, 0, 1, 0, 0],\n",
        "    [1, 1, 1, 1, 0, 1, 0, 0, 0, 0],\n",
        "    [1, 0, 0, 1, 1, 0, 0, 0, 0, 0],\n",
        "    [1, 0, 1, 0, 0, 1, 0, 0, 0, 0],\n",
        "    [1, 1, 0, 0, 0, 0, 1, 0, 0, 0],\n",
        "    [0, 0, 0, 1, 0, 0, 0, 0, 0, 1],\n",
        "    [1, 0, 1, 0, 0, 0, 0, 0, 0, 0],\n",
        "    [0, 0, 1, 0, 0, 1, 0, 0, 0, 0],\n",
        "    [1, 0, 1, 0, 0, 0, 0, 0, 0, 0],\n",
        "    [1, 0, 1, 1, 1, 0, 0, 0, 0, 0],\n",
        "    [0, 0, 0, 0, 0, 1, 0, 1, 0, 0],\n",
        "    [1, 1, 1, 1, 0, 0, 0, 0, 0, 0],\n",
        "    [1, 0, 1, 0, 0, 0, 0, 0, 0, 0],\n",
        "    [0, 0, 1, 0, 0, 1, 0, 0, 0, 0],\n",
        "    [1, 1, 0, 1, 0, 0, 0, 0, 0, 1],\n",
        "    [1, 0, 1, 0, 1, 0, 0, 0, 1, 0],\n",
        "    [0, 0, 0, 1, 1, 0, 0, 0, 0, 0],\n",
        "    [1, 0, 0, 1, 0, 0, 0, 0, 0, 0],\n",
        "    [1, 0, 0, 0, 1, 1, 0, 0, 0, 0],\n",
        "    [1, 0, 0, 1, 0, 0, 0, 0, 0, 0],\n",
        "]\n",
        "\n",
        "\n",
        "def get_actors_in_day(planning: list, schedule: list[list]) -> list:\n",
        "    \"\"\"Get actors a given day\n",
        "\n",
        "    Args:\n",
        "        planning (list): array of takes in a day\n",
        "        schedule (list[list]): array of actors per take, where each item represents one take\n",
        "\n",
        "    Returns:\n",
        "        list: actors in planning\n",
        "    \"\"\"\n",
        "    # Obtain array of actors per take\n",
        "    actors_per_take = [schedule[take] for take in planning]\n",
        "\n",
        "    # Union of all actors in that day: ACTORS_TAKE_1 OR ACTORS_TAKE_2 OR ACTORS_TAKE_N\n",
        "    return [int(any(i)) for i in zip(*actors_per_take)]\n",
        "\n",
        "\n",
        "def get_cost(planning: list[list], schedule: list[list]) -> int:\n",
        "    \"\"\"Calculate total cost for a given planning\n",
        "\n",
        "    Args:\n",
        "        planning (list[list]): array of takes, where each item represents a day\n",
        "        schedule (list[list]): array of actors per take, where each item represents one take\n",
        "\n",
        "    Returns:\n",
        "        int: total cost\n",
        "    \"\"\"\n",
        "\n",
        "    cost = 0\n",
        "\n",
        "    for day in planning:\n",
        "        actors_in_day = get_actors_in_day(day, schedule)\n",
        "\n",
        "        # Count the actors in that day and multiply by cost\n",
        "        cost += actors_in_day.count(1) * cost_per_actor\n",
        "\n",
        "    return cost\n",
        "\n",
        "\n",
        "def get_planning(schedule: list[list]) -> list[list]:\n",
        "    \"\"\"Get a random planning given a schedule\n",
        "\n",
        "    Args:\n",
        "        schedule (list[list]): schedule of sessions with actors to record\n",
        "\n",
        "    Returns:\n",
        "        list[list]: possible random planning\n",
        "    \"\"\"\n",
        "    # Get empty planning\n",
        "    planning = []\n",
        "\n",
        "    # Use schedule as a set of the ids\n",
        "    schedule_set = set(range(len(schedule)))\n",
        "\n",
        "    # continue until we schedule all the takes\n",
        "    while len(schedule_set) > 0:\n",
        "        # max amount of takes per day\n",
        "        max_amount = (\n",
        "            max_takes_per_day\n",
        "            if max_takes_per_day <= len(schedule_set)\n",
        "            else len(schedule_set)\n",
        "        )\n",
        "\n",
        "        # having different takes by day\n",
        "        takes_amount = random.choice(range(1, max_amount)) if max_amount > 1 else 1\n",
        "\n",
        "        # obtain take id from schedule\n",
        "        takes = random.sample(list(schedule_set), takes_amount)\n",
        "\n",
        "        # add them to the planning by day\n",
        "        planning.append(takes)\n",
        "\n",
        "        # remove takes from schedule\n",
        "        schedule_set -= set(takes)\n",
        "\n",
        "    return planning\n",
        "\n",
        "\n",
        "test_planning = get_planning(test_schedule)\n",
        "display(test_planning, get_cost(test_planning, test_schedule))"
      ]
    },
    {
      "cell_type": "markdown",
      "metadata": {
        "id": "rlnTYgY1j6I2"
      },
      "source": [
        "Diseña un algoritmo para resolver el problema por fuerza bruta\n"
      ]
    },
    {
      "cell_type": "markdown",
      "metadata": {
        "id": "70rDgxYXkC8r"
      },
      "source": [
        "Respuesta\n"
      ]
    },
    {
      "cell_type": "markdown",
      "metadata": {},
      "source": [
        "Version Directa\n"
      ]
    },
    {
      "cell_type": "code",
      "execution_count": 124,
      "metadata": {},
      "outputs": [
        {
          "data": {
            "text/plain": [
              "'BF planning'"
            ]
          },
          "metadata": {},
          "output_type": "display_data"
        },
        {
          "data": {
            "text/plain": [
              "[[0], [1, 3, 4, 5, 6, 7], [2]]"
            ]
          },
          "metadata": {},
          "output_type": "display_data"
        },
        {
          "data": {
            "text/plain": [
              "'Cost'"
            ]
          },
          "metadata": {},
          "output_type": "display_data"
        },
        {
          "data": {
            "text/plain": [
              "70"
            ]
          },
          "metadata": {},
          "output_type": "display_data"
        }
      ],
      "source": [
        "import itertools\n",
        "import math\n",
        "\n",
        "schedule_demo = [\n",
        "    [0, 0, 1, 1],\n",
        "    [1, 1, 0, 1],\n",
        "    [1, 0, 0, 0],\n",
        "    [1, 1, 1, 1],\n",
        "    [1, 1, 0, 1],\n",
        "    [1, 1, 1, 0],\n",
        "    [1, 1, 1, 1],\n",
        "    [1, 1, 1, 0],\n",
        "]\n",
        "\n",
        "\n",
        "def get_all_planning(takes):\n",
        "    # if there is not takes remaining we return empty plannings\n",
        "    if len(takes) == 0:\n",
        "        return [[]]\n",
        "\n",
        "    res = []\n",
        "\n",
        "    # iterate over all possible combinations within the takes\n",
        "    for i in range(1, min(len(takes), max_takes_per_day) + 1):\n",
        "        for combination in itertools.combinations(takes, i):\n",
        "            # get the rest of takes outside the combination\n",
        "            remaining_takes = [take for take in takes if take not in combination]\n",
        "\n",
        "            # calculate new planning for remaining takes\n",
        "            for remaining_takes_planning in get_all_planning(remaining_takes):\n",
        "                # create new planning based on original combination and planning\n",
        "                new_planning = [list(combination)] + remaining_takes_planning\n",
        "\n",
        "                # sort the planning to avoid duplication\n",
        "                sorted_planning = sorted(new_planning, key=sorted)\n",
        "\n",
        "                # if not existing add it to the possible results\n",
        "                if sorted_planning not in res:\n",
        "                    res.append(sorted_planning)\n",
        "    return res\n",
        "\n",
        "\n",
        "def get_planning_BF(schedule: list[list]) -> list[list]:\n",
        "    best_cost = math.inf\n",
        "    best_planning = []\n",
        "\n",
        "    all_planning = get_all_planning(range(len(schedule)))\n",
        "\n",
        "    for curr_plan in all_planning:\n",
        "        curr_cost = get_cost(curr_plan, schedule)\n",
        "\n",
        "        if curr_cost < best_cost:\n",
        "            best_cost = curr_cost\n",
        "            best_planning = curr_plan\n",
        "\n",
        "    return best_planning\n",
        "\n",
        "\n",
        "result = get_planning_BF(schedule_demo)\n",
        "display(\"BF planning\", result)\n",
        "display(\"Cost\", get_cost(result, schedule_demo))"
      ]
    },
    {
      "cell_type": "code",
      "execution_count": 100,
      "metadata": {},
      "outputs": [
        {
          "data": {
            "text/plain": [
              "6.0"
            ]
          },
          "execution_count": 100,
          "metadata": {},
          "output_type": "execute_result"
        }
      ],
      "source": [
        "def get_combination(n: int, r: int) -> list[int]:\n",
        "    \"\"\"Combination without repetition\n",
        "\n",
        "    Args:\n",
        "        n (int): amount of items\n",
        "        r (int): elements in groups\n",
        "\n",
        "    Returns:\n",
        "        list[int]: combinations of items\n",
        "    \"\"\"\n",
        "    div = math.factorial(r) * math.factorial(n - r)\n",
        "    return math.factorial(n) / div\n",
        "\n",
        "\n",
        "get_combination(3, 2) + get_combination(3, 1)"
      ]
    },
    {
      "cell_type": "markdown",
      "metadata": {
        "id": "tgrnsC2nkFa8"
      },
      "source": [
        "Calcula la complejidad del algoritmo por fuerza bruta\n"
      ]
    },
    {
      "cell_type": "markdown",
      "metadata": {
        "id": "9eUd3xwckP68"
      },
      "source": [
        "Respuesta\n"
      ]
    },
    {
      "cell_type": "code",
      "execution_count": null,
      "metadata": {},
      "outputs": [
        {
          "data": {
            "text/plain": [
              "True"
            ]
          },
          "execution_count": 199,
          "metadata": {},
          "output_type": "execute_result"
        }
      ],
      "source": []
    },
    {
      "cell_type": "code",
      "execution_count": 115,
      "metadata": {
        "id": "rvZWwL-ckRST"
      },
      "outputs": [
        {
          "data": {
            "text/plain": [
              "'initial planning'"
            ]
          },
          "metadata": {},
          "output_type": "display_data"
        },
        {
          "data": {
            "text/plain": [
              "[[2, 1, 0, 5], [7], [4], [6], [3]]"
            ]
          },
          "metadata": {},
          "output_type": "display_data"
        },
        {
          "data": {
            "text/plain": [
              "'Distance'"
            ]
          },
          "metadata": {},
          "output_type": "display_data"
        },
        {
          "data": {
            "text/plain": [
              "180"
            ]
          },
          "metadata": {},
          "output_type": "display_data"
        },
        {
          "data": {
            "text/plain": [
              "'SA planning'"
            ]
          },
          "metadata": {},
          "output_type": "display_data"
        },
        {
          "data": {
            "text/plain": [
              "[[5, 2, 7], [4, 6, 3, 0, 1]]"
            ]
          },
          "metadata": {},
          "output_type": "display_data"
        },
        {
          "data": {
            "text/plain": [
              "'Distance'"
            ]
          },
          "metadata": {},
          "output_type": "display_data"
        },
        {
          "data": {
            "text/plain": [
              "70"
            ]
          },
          "metadata": {},
          "output_type": "display_data"
        }
      ],
      "source": [
        "import random\n",
        "import math\n",
        "\n",
        "\n",
        "def probability(temp: int, dist: int) -> bool:\n",
        "    return random.random() < math.exp(-1 * dist / temp)\n",
        "\n",
        "\n",
        "def dec_temp(temp: int) -> int:\n",
        "    return temp * 0.9999\n",
        "\n",
        "\n",
        "def split_list(items: list, n_parts: int, max_amount: int) -> list:\n",
        "    \"\"\"Split items into different parts\"\"\"\n",
        "    # copy of the list to avoid reference modification\n",
        "    items_copy = items[:]\n",
        "\n",
        "    # initialize parts with empty lists\n",
        "    parts = [[] for _ in range(n_parts)]\n",
        "\n",
        "    # continue until all the items have been properly distributed\n",
        "    while items_copy:\n",
        "        # pop item from array\n",
        "        item = items_copy.pop()\n",
        "\n",
        "        # use only available arrays\n",
        "        available_parts = [\n",
        "            index for index, value in enumerate(parts) if len(value) < max_amount\n",
        "        ]\n",
        "\n",
        "        # get random index and add item\n",
        "        i = random.choice(available_parts)\n",
        "        parts[i].append(item)\n",
        "\n",
        "    return parts\n",
        "\n",
        "\n",
        "def get_closest(planning: list[list]) -> list[list]:\n",
        "    \"\"\"Get closest random planning by swapping takes\"\"\"\n",
        "    # Making a deep copy of the list to avoid object modification\n",
        "    planning_copy = [lst[:] for lst in planning]\n",
        "\n",
        "    # get random days from planning\n",
        "    i, j = random.sample(range(len(planning)), 2)\n",
        "\n",
        "    # group all takes into a single array\n",
        "    all_takes = planning_copy[i] + planning_copy[j]\n",
        "\n",
        "    # distribute them between the days\n",
        "    planning_copy[i], planning_copy[j] = split_list(all_takes, 2, max_takes_per_day)\n",
        "\n",
        "    return planning_copy\n",
        "\n",
        "\n",
        "# Using Simulated Annealing heuristic --> https://en.wikipedia.org/wiki/Simulated_annealing\n",
        "def get_planning_SA(schedule: list[list], temp=10000000) -> list[list]:\n",
        "    curr_plan = get_planning(schedule)\n",
        "    curr_plan_dist = get_distance(curr_plan, schedule)\n",
        "\n",
        "    display(\"initial planning\", curr_plan)\n",
        "    display(\"Distance\", get_distance(curr_plan, schedule))\n",
        "\n",
        "    # max values for possible result\n",
        "    best_plan = []\n",
        "    best_plan_dist = 10e10000\n",
        "\n",
        "    while temp > 0.0001:\n",
        "        closest = get_closest(curr_plan)\n",
        "        closest_dist = get_distance(closest, schedule)\n",
        "\n",
        "        if closest_dist < best_plan_dist:\n",
        "            best_plan = closest\n",
        "            best_plan_dist = closest_dist\n",
        "\n",
        "        dist_diff = abs(curr_plan_dist - closest_dist)\n",
        "        if closest_dist < curr_plan_dist or probability(temp, dist_diff):\n",
        "            curr_plan = closest\n",
        "            curr_plan_dist = closest_dist\n",
        "\n",
        "        temp = dec_temp(temp)\n",
        "\n",
        "    return list(filter(lambda day: len(day) > 0, best_plan))\n",
        "\n",
        "\n",
        "asd = [\n",
        "    [0, 0, 1, 1],\n",
        "    [1, 1, 0, 1],\n",
        "    [1, 0, 0, 0],\n",
        "    [1, 1, 1, 1],\n",
        "    [1, 1, 0, 1],\n",
        "    [1, 1, 1, 0],\n",
        "    [1, 1, 1, 1],\n",
        "    [1, 1, 1, 0],\n",
        "]\n",
        "\n",
        "result = get_planning_SA(asd)\n",
        "display(\"SA planning\", result)\n",
        "display(\"Distance\", get_cost(result, asd))"
      ]
    },
    {
      "cell_type": "code",
      "execution_count": null,
      "metadata": {},
      "outputs": [],
      "source": []
    },
    {
      "cell_type": "markdown",
      "metadata": {
        "id": "txbrmLmskReM"
      },
      "source": [
        "(\\*)Diseña un algoritmo que mejore la complejidad del algortimo por fuerza bruta. Argumenta porque crees que mejora el algoritmo por fuerza bruta\n"
      ]
    },
    {
      "cell_type": "markdown",
      "metadata": {
        "id": "hLrVwt5QkZPD"
      },
      "source": [
        "Respuesta\n"
      ]
    },
    {
      "cell_type": "code",
      "execution_count": null,
      "metadata": {
        "id": "m1eyM21Vkabg"
      },
      "outputs": [],
      "source": [
        "# A completar!"
      ]
    },
    {
      "cell_type": "markdown",
      "metadata": {
        "id": "eGDB4K6uk1iN"
      },
      "source": [
        "(\\*)Calcula la complejidad del algoritmo\n"
      ]
    },
    {
      "cell_type": "markdown",
      "metadata": {
        "id": "NhpTh_BPk1ms"
      },
      "source": [
        "Respuesta\n"
      ]
    },
    {
      "cell_type": "code",
      "execution_count": null,
      "metadata": {
        "id": "nREzhkStlCq8"
      },
      "outputs": [],
      "source": [
        "# A completar!"
      ]
    },
    {
      "cell_type": "markdown",
      "metadata": {
        "id": "3M6QjTsSkmYe"
      },
      "source": [
        "Según el problema (y tenga sentido), diseña un juego de datos de entrada aleatorios\n"
      ]
    },
    {
      "cell_type": "markdown",
      "metadata": {
        "id": "Jc3_OlyNkvjZ"
      },
      "source": [
        "Respuesta\n"
      ]
    },
    {
      "cell_type": "code",
      "execution_count": 49,
      "metadata": {
        "id": "sJ-N2etjkyWc"
      },
      "outputs": [
        {
          "data": {
            "text/plain": [
              "[[0, 0, 1, 1],\n",
              " [1, 1, 0, 1],\n",
              " [1, 0, 0, 0],\n",
              " [1, 1, 1, 1],\n",
              " [1, 1, 0, 1],\n",
              " [1, 1, 1, 0],\n",
              " [1, 1, 1, 1],\n",
              " [1, 1, 1, 0],\n",
              " [1, 1, 0, 1],\n",
              " [1, 0, 0, 1]]"
            ]
          },
          "metadata": {},
          "output_type": "display_data"
        }
      ],
      "source": [
        "import random\n",
        "\n",
        "\n",
        "def generate_schedule(n_days: int, n_actor: int) -> list[list]:\n",
        "    # generate empty schedule\n",
        "    schedule = [[] for _ in list(range(n_days))]\n",
        "\n",
        "    # iterate over amount of days\n",
        "    for i in range(n_days):\n",
        "        # get random numbers of actors\n",
        "        actors = random.sample(range(n_actor), random.randint(1, n_actor))\n",
        "\n",
        "        # generate boolean array to store\n",
        "        take_schedule = [int(j in actors) for j in range(n_actor)]\n",
        "\n",
        "        # save in schedule\n",
        "        schedule[i] = take_schedule\n",
        "\n",
        "    return schedule\n",
        "\n",
        "\n",
        "display(generate_schedule(10, 4))"
      ]
    },
    {
      "cell_type": "markdown",
      "metadata": {
        "id": "zy5ZROmjlGo1"
      },
      "source": [
        "Aplica el algoritmo al juego de datos generado\n"
      ]
    },
    {
      "cell_type": "markdown",
      "metadata": {
        "id": "_Cmj-PVylMsa"
      },
      "source": [
        "Respuesta\n"
      ]
    },
    {
      "cell_type": "code",
      "execution_count": null,
      "metadata": {
        "id": "Jkx8GeiYlUz1"
      },
      "outputs": [],
      "source": [
        "# A completar!"
      ]
    },
    {
      "cell_type": "markdown",
      "metadata": {
        "id": "eTFWUJQrtGcv"
      },
      "source": [
        "Enumera las referencias que has utilizado(si ha sido necesario) para llevar a cabo el trabajo\n"
      ]
    },
    {
      "cell_type": "markdown",
      "metadata": {
        "id": "YKQ_mRBttWsP"
      },
      "source": [
        "Respuesta\n"
      ]
    },
    {
      "cell_type": "markdown",
      "metadata": {
        "id": "kAkDPUyRtYyH"
      },
      "source": [
        "Describe brevemente las lineas de como crees que es posible avanzar en el estudio del problema. Ten en cuenta incluso posibles variaciones del problema y/o variaciones al alza del tamaño\n"
      ]
    },
    {
      "cell_type": "markdown",
      "metadata": {
        "id": "IE0uZmo-tZu-"
      },
      "source": [
        "Respuesta\n"
      ]
    }
  ],
  "metadata": {
    "colab": {
      "provenance": []
    },
    "kernelspec": {
      "display_name": "Python 3",
      "name": "python3"
    },
    "language_info": {
      "codemirror_mode": {
        "name": "ipython",
        "version": 3
      },
      "file_extension": ".py",
      "mimetype": "text/x-python",
      "name": "python",
      "nbconvert_exporter": "python",
      "pygments_lexer": "ipython3",
      "version": "3.11.7"
    }
  },
  "nbformat": 4,
  "nbformat_minor": 0
}

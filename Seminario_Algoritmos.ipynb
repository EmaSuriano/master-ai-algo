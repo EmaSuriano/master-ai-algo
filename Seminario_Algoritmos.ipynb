{
  "cells": [
    {
      "cell_type": "markdown",
      "metadata": {
        "id": "hVbXYX-RfPWh"
      },
      "source": [
        "# Algoritmos de optimización - Seminario<br>\n",
        "\n",
        "Nombre y Apellidos:\n",
        "\n",
        "- Julio Emanuel Suriano Bryk\n",
        "- José Fernández López\n",
        "\n",
        "Url: https://github.com/.../03MAIR---Algoritmos-de-Optimizacion---2019/tree/master/SEMINARIO\n",
        "\n",
        "Problema:\n",
        "\n",
        "> 1.  **Sesiones de doblaje**\n",
        "> 2.  Organizar los horarios de partidos de La Liga\n",
        "> 3.  Combinar cifras y operaciones\n",
        "\n",
        "Descripción del problema:(copiar enunciado)\n",
        "\n",
        "## Problema 1. Organizar sesiones de doblaje(I)\n",
        "\n",
        "- Se precisa coordinar el doblaje de una película. Los actores del doblaje deben coincidir en las tomas en las que sus personajes aparecen juntos en las diferentes tomas.\n",
        "- Los actores de doblaje cobran toda la misma cantidad por cada día que deben desplazarse hasta el estudio de grabación independientemente del número de tomas que se graben.\n",
        "- No es posible grabar más de 6 tomas por día.\n",
        "- El objetivo es planificar las sesiones por día de manera que el gasto por los servicios de los actores de doblaje sea el menor posible. Los datos son:\n",
        "\n",
        "(\\*) La respuesta es obligatoria\n"
      ]
    },
    {
      "cell_type": "markdown",
      "metadata": {
        "id": "3_-exlrTgLd-"
      },
      "source": [
        "(\\*)¿Cuantas posibilidades hay sin tener en cuenta las restricciones?<br>\n",
        "\n",
        "¿Cuantas posibilidades hay teniendo en cuenta todas las restricciones.\n"
      ]
    },
    {
      "cell_type": "markdown",
      "metadata": {},
      "source": [
        "**Respuesta**: Este ejercicio presenta una distribución de una combinatoria sin repetición donde el ordern no importa y se deben utilizar todos los elementos.\n",
        "\n",
        "$$\n",
        "   C_n^r =\n",
        "   \\binom{n}{r} =\n",
        "\n",
        "   \\frac{n!}{r!  \\cdot (n-r)!}\n",
        "$$\n",
        "\n",
        "En caso de no tener restricción alguna, la cantidad de posibilidades es igual a:\n",
        "\n",
        "$$C = n! $$\n",
        "\n",
        "Tomando en cuenta las restriccion de no mas de 6 tomas por día, la cantidad de posbilidades es de:\n",
        "\n",
        "$$\n",
        "   C_n^r =\n",
        "   \\binom{n}{6} =\n",
        "\n",
        "   \\frac{n!}{6!  \\cdot (n-6)!}\n",
        "$$\n",
        "\n",
        "Suponiendo que tenemos un total de 10 tomas para grabar, los resultados serian:\n",
        "\n",
        "- Sin restricciones: 3.628.800 posibilidades\n",
        "- Con no mas de 6 tomas por dia: 210 posibilidades\n"
      ]
    },
    {
      "cell_type": "code",
      "execution_count": 205,
      "metadata": {},
      "outputs": [
        {
          "name": "stdout",
          "output_type": "stream",
          "text": [
            "Los primeros 10 números de Bell son:\n",
            "B(0) = 1\n",
            "B(1) = 1\n",
            "B(2) = 2\n",
            "B(3) = 5\n",
            "B(4) = 15\n",
            "B(5) = 52\n",
            "B(6) = 203\n",
            "B(7) = 877\n",
            "B(8) = 4140\n",
            "B(9) = 21147\n"
          ]
        }
      ],
      "source": [
        "from math import comb\n",
        "\n",
        "\n",
        "def bell_number(n):\n",
        "    if n == 0 or n == 1:\n",
        "        return 1\n",
        "\n",
        "    bell = [[0 for i in range(n + 1)] for j in range(n + 1)]\n",
        "    bell[0][0] = 1\n",
        "\n",
        "    for i in range(1, n + 1):\n",
        "        bell[i][0] = bell[i - 1][i - 1]\n",
        "\n",
        "        for j in range(1, i + 1):\n",
        "            bell[i][j] = bell[i - 1][j - 1] + bell[i][j - 1]\n",
        "\n",
        "    return bell[n][0]\n",
        "\n",
        "\n",
        "def print_bell_numbers(n):\n",
        "    print(f\"Los primeros {n} números de Bell son:\")\n",
        "    for i in range(n):\n",
        "        print(f\"B({i}) = {bell_number(i)}\")\n",
        "\n",
        "\n",
        "# Ejemplo de uso\n",
        "print_bell_numbers(10)"
      ]
    },
    {
      "cell_type": "code",
      "execution_count": 229,
      "metadata": {},
      "outputs": [
        {
          "name": "stdout",
          "output_type": "stream",
          "text": [
            "\n",
            "Verificación para B(3):\n"
          ]
        },
        {
          "ename": "TypeError",
          "evalue": "'float' object is not callable",
          "output_type": "error",
          "traceback": [
            "\u001b[0;31m---------------------------------------------------------------------------\u001b[0m",
            "\u001b[0;31mTypeError\u001b[0m                                 Traceback (most recent call last)",
            "Cell \u001b[0;32mIn[229], line 16\u001b[0m\n\u001b[1;32m     14\u001b[0m \u001b[38;5;66;03m# Verificación del ejemplo B(3) = 5\u001b[39;00m\n\u001b[1;32m     15\u001b[0m \u001b[38;5;28mprint\u001b[39m(\u001b[38;5;124m\"\u001b[39m\u001b[38;5;130;01m\\n\u001b[39;00m\u001b[38;5;124mVerificación para B(3):\u001b[39m\u001b[38;5;124m\"\u001b[39m)\n\u001b[0;32m---> 16\u001b[0m \u001b[38;5;28mprint\u001b[39m(\u001b[38;5;124mf\u001b[39m\u001b[38;5;124m\"\u001b[39m\u001b[38;5;124mB(3) = \u001b[39m\u001b[38;5;132;01m{\u001b[39;00mcalculate_bell_number(\u001b[38;5;241m3\u001b[39m)\u001b[38;5;132;01m}\u001b[39;00m\u001b[38;5;124m\"\u001b[39m)\n",
            "Cell \u001b[0;32mIn[229], line 10\u001b[0m, in \u001b[0;36mcalculate_bell_number\u001b[0;34m(n)\u001b[0m\n\u001b[1;32m      6\u001b[0m     \u001b[38;5;28;01mreturn\u001b[39;00m \u001b[38;5;241m1\u001b[39m\n\u001b[1;32m      8\u001b[0m \u001b[38;5;66;03m# Implementación de la fórmula B(n) = Σ(k=0 to n-1) C(n-1,k) * B(k)\u001b[39;00m\n\u001b[0;32m---> 10\u001b[0m asd \u001b[38;5;241m=\u001b[39m [comb(n \u001b[38;5;241m-\u001b[39m \u001b[38;5;241m1\u001b[39m, k) \u001b[38;5;241m*\u001b[39m calculate_bell_number(k) \u001b[38;5;28;01mfor\u001b[39;00m k \u001b[38;5;129;01min\u001b[39;00m \u001b[38;5;28mrange\u001b[39m(n)]\n\u001b[1;32m     11\u001b[0m \u001b[38;5;28;01mreturn\u001b[39;00m \u001b[38;5;28msum\u001b[39m(asd)\n",
            "Cell \u001b[0;32mIn[229], line 10\u001b[0m, in \u001b[0;36m<listcomp>\u001b[0;34m(.0)\u001b[0m\n\u001b[1;32m      6\u001b[0m     \u001b[38;5;28;01mreturn\u001b[39;00m \u001b[38;5;241m1\u001b[39m\n\u001b[1;32m      8\u001b[0m \u001b[38;5;66;03m# Implementación de la fórmula B(n) = Σ(k=0 to n-1) C(n-1,k) * B(k)\u001b[39;00m\n\u001b[0;32m---> 10\u001b[0m asd \u001b[38;5;241m=\u001b[39m [comb(n \u001b[38;5;241m-\u001b[39m \u001b[38;5;241m1\u001b[39m, k) \u001b[38;5;241m*\u001b[39m calculate_bell_number(k) \u001b[38;5;28;01mfor\u001b[39;00m k \u001b[38;5;129;01min\u001b[39;00m \u001b[38;5;28mrange\u001b[39m(n)]\n\u001b[1;32m     11\u001b[0m \u001b[38;5;28;01mreturn\u001b[39;00m \u001b[38;5;28msum\u001b[39m(asd)\n",
            "Cell \u001b[0;32mIn[229], line 11\u001b[0m, in \u001b[0;36mcalculate_bell_number\u001b[0;34m(n)\u001b[0m\n\u001b[1;32m      8\u001b[0m \u001b[38;5;66;03m# Implementación de la fórmula B(n) = Σ(k=0 to n-1) C(n-1,k) * B(k)\u001b[39;00m\n\u001b[1;32m     10\u001b[0m asd \u001b[38;5;241m=\u001b[39m [comb(n \u001b[38;5;241m-\u001b[39m \u001b[38;5;241m1\u001b[39m, k) \u001b[38;5;241m*\u001b[39m calculate_bell_number(k) \u001b[38;5;28;01mfor\u001b[39;00m k \u001b[38;5;129;01min\u001b[39;00m \u001b[38;5;28mrange\u001b[39m(n)]\n\u001b[0;32m---> 11\u001b[0m \u001b[38;5;28;01mreturn\u001b[39;00m \u001b[38;5;28msum\u001b[39m(asd)\n",
            "\u001b[0;31mTypeError\u001b[0m: 'float' object is not callable"
          ]
        }
      ],
      "source": [
        "from math import comb\n",
        "\n",
        "\n",
        "def calculate_bell_number(n):\n",
        "    if n == 0 or n == 1:\n",
        "        return 1\n",
        "\n",
        "    # Implementación de la fórmula B(n) = Σ(k=0 to n-1) C(n-1,k) * B(k)\n",
        "    res = 0\n",
        "\n",
        "    for k in range(n):\n",
        "        res += comb(n - 1, k) * calculate_bell_number(k)\n",
        "\n",
        "    return res\n",
        "\n",
        "\n",
        "# Verificación del ejemplo B(3) = 5\n",
        "print(\"\\nVerificación para B(3):\")\n",
        "print(f\"B(3) = {calculate_bell_number(3)}\")"
      ]
    },
    {
      "cell_type": "markdown",
      "metadata": {},
      "source": []
    },
    {
      "cell_type": "markdown",
      "metadata": {
        "id": "dzynfVJahHoY"
      },
      "source": [
        "Modelo para el espacio de soluciones<br>\n",
        "(\\*) ¿Cual es la estructura de datos que mejor se adapta al problema? Argumentalo.(Es posible que hayas elegido una al principio y veas la necesidad de cambiar, arguentalo)\n"
      ]
    },
    {
      "cell_type": "markdown",
      "metadata": {},
      "source": [
        "**Respuesta:** Vamos a utilizar una matriz (lista de lista) para representar la tabla de tomas y actores, donde cada item dentro de la lista representa un toma y a su vez, cada toma contiene los actores que participan.\n",
        "\n",
        "```python\n",
        "example_schedule = [\n",
        "    [1, 1, 1, 1, 1, 0, 0, 0, 0, 0], # toma 1 con actores 1, 2, 3, 4 y 5\n",
        "    [0, 0, 1, 1, 1, 0, 0, 0, 0, 0], # toma 1 con actores 3, 4 y 5\n",
        "    ...\n",
        "]\n",
        "```\n",
        "\n",
        "Para representar el resultado final, es decir la planificacion de sesiones por dia, vamos a utilizar de nuevo una matriz.\n",
        "\n",
        "```python\n",
        "result = [\n",
        "  [0,1,2], # dia 1 con las tomas 1, 2 y 3\n",
        "  [3,5], # toma 2 con los actores 1 y 4\n",
        "]\n",
        "```\n"
      ]
    },
    {
      "cell_type": "markdown",
      "metadata": {
        "id": "7Z9U2W7bi-XS"
      },
      "source": [
        "Según el modelo para el espacio de soluciones<br>\n",
        "(\\*)¿Cual es la función objetivo?\n",
        "\n",
        "(\\*)¿Es un problema de maximización o minimización?\n"
      ]
    },
    {
      "cell_type": "markdown",
      "metadata": {},
      "source": [
        "**Justificación:** Es un problema de minimización donde la función objetivo es obtener una planificación de los actores por día que contemple el menor coste posible.\n"
      ]
    },
    {
      "cell_type": "markdown",
      "metadata": {},
      "source": [
        "Funciones Base para los algoritmos\n"
      ]
    },
    {
      "cell_type": "code",
      "execution_count": 168,
      "metadata": {
        "id": "CJb5sQ0qkENy"
      },
      "outputs": [
        {
          "data": {
            "text/plain": [
              "[[26],\n",
              " [8, 12, 3, 6],\n",
              " [1, 11],\n",
              " [22, 18],\n",
              " [23, 15, 29, 2, 13],\n",
              " [10, 5],\n",
              " [20, 27, 9, 19, 24],\n",
              " [28, 16, 0],\n",
              " [14],\n",
              " [7, 21, 17],\n",
              " [25],\n",
              " [4]]"
            ]
          },
          "metadata": {},
          "output_type": "display_data"
        },
        {
          "data": {
            "text/plain": [
              "60"
            ]
          },
          "metadata": {},
          "output_type": "display_data"
        }
      ],
      "source": [
        "import random\n",
        "\n",
        "# Taken from demo\n",
        "test_schedule = [\n",
        "    [1, 1, 1, 1, 1, 0, 0, 0, 0, 0],\n",
        "    [0, 0, 1, 1, 1, 0, 0, 0, 0, 0],\n",
        "    [0, 1, 0, 0, 1, 0, 1, 0, 0, 0],\n",
        "    [1, 1, 0, 0, 0, 0, 1, 1, 0, 0],\n",
        "    [0, 1, 0, 1, 0, 0, 0, 1, 0, 0],\n",
        "    [1, 1, 0, 1, 1, 0, 0, 0, 0, 0],\n",
        "    [1, 1, 0, 1, 1, 0, 0, 0, 0, 0],\n",
        "    [1, 1, 0, 0, 0, 1, 0, 0, 0, 0],\n",
        "    [1, 1, 0, 1, 0, 0, 0, 0, 0, 0],\n",
        "    [1, 1, 0, 0, 0, 1, 0, 0, 1, 0],\n",
        "    [1, 1, 1, 0, 1, 0, 0, 1, 0, 0],\n",
        "    [1, 1, 1, 1, 0, 1, 0, 0, 0, 0],\n",
        "    [1, 0, 0, 1, 1, 0, 0, 0, 0, 0],\n",
        "    [1, 0, 1, 0, 0, 1, 0, 0, 0, 0],\n",
        "    [1, 1, 0, 0, 0, 0, 1, 0, 0, 0],\n",
        "    [0, 0, 0, 1, 0, 0, 0, 0, 0, 1],\n",
        "    [1, 0, 1, 0, 0, 0, 0, 0, 0, 0],\n",
        "    [0, 0, 1, 0, 0, 1, 0, 0, 0, 0],\n",
        "    [1, 0, 1, 0, 0, 0, 0, 0, 0, 0],\n",
        "    [1, 0, 1, 1, 1, 0, 0, 0, 0, 0],\n",
        "    [0, 0, 0, 0, 0, 1, 0, 1, 0, 0],\n",
        "    [1, 1, 1, 1, 0, 0, 0, 0, 0, 0],\n",
        "    [1, 0, 1, 0, 0, 0, 0, 0, 0, 0],\n",
        "    [0, 0, 1, 0, 0, 1, 0, 0, 0, 0],\n",
        "    [1, 1, 0, 1, 0, 0, 0, 0, 0, 1],\n",
        "    [1, 0, 1, 0, 1, 0, 0, 0, 1, 0],\n",
        "    [0, 0, 0, 1, 1, 0, 0, 0, 0, 0],\n",
        "    [1, 0, 0, 1, 0, 0, 0, 0, 0, 0],\n",
        "    [1, 0, 0, 0, 1, 1, 0, 0, 0, 0],\n",
        "    [1, 0, 0, 1, 0, 0, 0, 0, 0, 0],\n",
        "]\n",
        "\n",
        "\n",
        "def get_cost(planning: list[list], schedule: list[list]) -> int:\n",
        "    \"\"\"Calculate total cost for a given planning\n",
        "\n",
        "    Args:\n",
        "        planning (list[list]): array of takes, where each item represents a day\n",
        "        schedule (list[list]): array of actors per take, where each item represents one take\n",
        "\n",
        "    Returns:\n",
        "        int: total cost\n",
        "    \"\"\"\n",
        "\n",
        "    cost = 0\n",
        "\n",
        "    for day in planning:\n",
        "        # Obtain array of actors per take\n",
        "        actors_per_take = [schedule[take] for take in day]\n",
        "\n",
        "        # Union of all actors in that day: ACTORS_TAKE_1 OR ACTORS_TAKE_2 OR ACTORS_TAKE_N\n",
        "        actors_in_day = [int(any(i)) for i in zip(*actors_per_take)]\n",
        "\n",
        "        # Count the actors in that day and multiply by cost\n",
        "        cost += actors_in_day.count(1)\n",
        "\n",
        "    return cost\n",
        "\n",
        "\n",
        "def get_planning(schedule: list[list], max_takes_per_day: int) -> list[list]:\n",
        "    \"\"\"Get a random planning given a schedule\n",
        "\n",
        "    Args:\n",
        "        schedule (list[list]): schedule of sessions with actors to record\n",
        "        max_takes_per_day (int): maximum amount of takes per day\n",
        "\n",
        "    Returns:\n",
        "        list[list]: possible random planning\n",
        "    \"\"\"\n",
        "    # Get empty planning\n",
        "    planning = []\n",
        "\n",
        "    # Use schedule as a set of the ids\n",
        "    schedule_set = set(range(len(schedule)))\n",
        "\n",
        "    # continue until we schedule all the takes\n",
        "    while len(schedule_set) > 0:\n",
        "        # max amount of takes per day\n",
        "        max_amount = (\n",
        "            max_takes_per_day\n",
        "            if max_takes_per_day <= len(schedule_set)\n",
        "            else len(schedule_set)\n",
        "        )\n",
        "\n",
        "        # having different takes by day\n",
        "        takes_amount = random.choice(range(1, max_amount)) if max_amount > 1 else 1\n",
        "\n",
        "        # obtain take id from schedule\n",
        "        takes = random.sample(list(schedule_set), takes_amount)\n",
        "\n",
        "        # add them to the planning by day\n",
        "        planning.append(takes)\n",
        "\n",
        "        # remove takes from schedule\n",
        "        schedule_set -= set(takes)\n",
        "\n",
        "    return planning\n",
        "\n",
        "\n",
        "test_planning = get_planning(test_schedule, 6)\n",
        "display(test_planning, get_cost(test_planning, test_schedule))"
      ]
    },
    {
      "cell_type": "markdown",
      "metadata": {
        "id": "rlnTYgY1j6I2"
      },
      "source": [
        "### Diseña un algoritmo para resolver el problema por fuerza bruta\n"
      ]
    },
    {
      "cell_type": "code",
      "execution_count": 215,
      "metadata": {},
      "outputs": [
        {
          "name": "stdout",
          "output_type": "stream",
          "text": [
            "26\n"
          ]
        },
        {
          "data": {
            "text/plain": [
              "[[0, 3], [1], [2], [4]]"
            ]
          },
          "execution_count": 215,
          "metadata": {},
          "output_type": "execute_result"
        }
      ],
      "source": [
        "import itertools\n",
        "import math\n",
        "\n",
        "\n",
        "def get_all_planning(takes, max_takes_per_day: int):\n",
        "    # if there is not takes remaining we return empty plannings\n",
        "    if len(takes) == 0:\n",
        "        return [[]]\n",
        "\n",
        "    res = []\n",
        "\n",
        "    # iterate over all possible combinations within the takes\n",
        "    for i in range(1, min(len(takes), max_takes_per_day) + 1):\n",
        "        for combination in itertools.combinations(takes, i):\n",
        "            # get the rest of takes outside the combination\n",
        "            remaining_takes = [take for take in takes if take not in combination]\n",
        "\n",
        "            # calculate new planning for remaining takes\n",
        "            for remaining_takes_planning in get_all_planning(\n",
        "                remaining_takes, max_takes_per_day\n",
        "            ):\n",
        "                # create new planning based on original combination and planning\n",
        "                new_planning = [list(combination)] + remaining_takes_planning\n",
        "\n",
        "                # sort the planning to avoid duplication\n",
        "                sorted_planning = sorted(new_planning, key=sorted)\n",
        "\n",
        "                # if not existing add it to the possible results\n",
        "                if sorted_planning not in res:\n",
        "                    res.append(sorted_planning)\n",
        "    return res\n",
        "\n",
        "\n",
        "def get_planning_BF(schedule: list[list], max_takes_per_day: int) -> list[list]:\n",
        "    \"\"\"get planning for schedule using Brute Force\n",
        "\n",
        "    Args:\n",
        "        schedule (list[list]): schedule of takes\n",
        "        max_takes_per_day (int): _description_\n",
        "\n",
        "    Returns:\n",
        "        list[list]: _description_\n",
        "    \"\"\"\n",
        "    best_cost = math.inf\n",
        "    best_planning = []\n",
        "\n",
        "    all_planning = get_all_planning(range(len(schedule)), max_takes_per_day)\n",
        "\n",
        "    print(len(all_planning))\n",
        "\n",
        "    for curr_plan in all_planning:\n",
        "        curr_cost = get_cost(curr_plan, schedule)\n",
        "\n",
        "        if curr_cost < best_cost:\n",
        "            best_cost = curr_cost\n",
        "            best_planning = curr_plan\n",
        "\n",
        "    return best_planning\n",
        "\n",
        "\n",
        "get_planning_BF(generate_schedule(5, 4), 2)"
      ]
    },
    {
      "cell_type": "markdown",
      "metadata": {
        "id": "tgrnsC2nkFa8"
      },
      "source": [
        "Calcula la complejidad del algoritmo por fuerza bruta\n"
      ]
    },
    {
      "cell_type": "markdown",
      "metadata": {
        "id": "9eUd3xwckP68"
      },
      "source": [
        "**Respuesta**: El algoritmo por fuerza generate todas las posibles particiones de las tomas dentro de la planificación, por lo que se se puede asumir que sigue la definición de las particiones del [número de Bell](https://es.wikipedia.org/wiki/N%C3%BAmero_de_Bell).\n",
        "\n",
        "Donde los números de Bell cumplen la [fórmula de Dobinski](https://en.wikipedia.org/wiki/Dobi%C5%84ski%27s_formula):\n",
        "\n",
        "$$\n",
        "B_n = {1 \\over e}\\sum_{k=0}^\\infty \\frac{k^n}{k!},\n",
        "$$\n",
        "\n",
        "Donde:\n",
        "\n",
        "- $k$: número de elementos máximos por particion (6 para este algoritmo)\n",
        "- $n$: cantidad de tomas\n",
        "\n",
        "Esto indica que en el peor de los casos la complejidad computacional toma un valor exponencial.\n",
        "\n",
        "$$\n",
        "O(n) = k^n\n",
        "$$\n"
      ]
    },
    {
      "cell_type": "markdown",
      "metadata": {},
      "source": [
        "### Diseña un algoritmo que mejore la complejidad del algortimo por fuerza bruta.\n",
        "\n",
        "Argumenta porque crees que mejora el algoritmo por fuerza bruta\n"
      ]
    },
    {
      "cell_type": "code",
      "execution_count": 170,
      "metadata": {
        "id": "rvZWwL-ckRST"
      },
      "outputs": [],
      "source": [
        "def probability(temp: int, dist: int) -> bool:\n",
        "    return random.random() < math.exp(-1 * dist / temp)\n",
        "\n",
        "\n",
        "def dec_temp(temp: int) -> int:\n",
        "    return temp * 0.9999\n",
        "\n",
        "\n",
        "def split_list(items: list, n_parts: int, max_amount: int) -> list:\n",
        "    \"\"\"Split items into different parts\"\"\"\n",
        "    # copy of the list to avoid reference modification\n",
        "    items_copy = items[:]\n",
        "\n",
        "    # initialize parts with empty lists\n",
        "    parts = [[] for _ in range(n_parts)]\n",
        "\n",
        "    # continue until all the items have been properly distributed\n",
        "    while items_copy:\n",
        "        # pop item from array\n",
        "        item = items_copy.pop()\n",
        "\n",
        "        # use only available arrays\n",
        "        available_parts = [\n",
        "            index for index, value in enumerate(parts) if len(value) < max_amount\n",
        "        ]\n",
        "\n",
        "        # get random index and add item\n",
        "        i = random.choice(available_parts)\n",
        "        parts[i].append(item)\n",
        "\n",
        "    return parts\n",
        "\n",
        "\n",
        "def get_closest(planning: list[list], max_takes_per_day: int) -> list[list]:\n",
        "    \"\"\"Get closest random planning by swapping takes\"\"\"\n",
        "    # Making a deep copy of the list to avoid object modification\n",
        "    planning_copy = [lst[:] for lst in planning]\n",
        "\n",
        "    # get random days from planning\n",
        "    i, j = random.sample(range(len(planning)), 2)\n",
        "\n",
        "    # group all takes into a single array\n",
        "    all_takes = planning_copy[i] + planning_copy[j]\n",
        "\n",
        "    # distribute them between the days\n",
        "    planning_copy[i], planning_copy[j] = split_list(all_takes, 2, max_takes_per_day)\n",
        "\n",
        "    return planning_copy\n",
        "\n",
        "\n",
        "get_distance = get_cost\n",
        "\n",
        "\n",
        "def get_planning_SA(\n",
        "    schedule: list[list], max_takes_per_day, temp=10000000\n",
        ") -> list[list]:\n",
        "    curr_plan = get_planning(schedule, max_takes_per_day)\n",
        "    curr_plan_dist = get_distance(curr_plan, schedule)\n",
        "\n",
        "    # max values for possible result\n",
        "    best_plan = []\n",
        "    best_plan_dist = 10e10000\n",
        "\n",
        "    while temp > 0.0001:\n",
        "        closest = get_closest(curr_plan, max_takes_per_day)\n",
        "        closest_dist = get_distance(closest, schedule)\n",
        "\n",
        "        if closest_dist < best_plan_dist:\n",
        "            best_plan = closest\n",
        "            best_plan_dist = closest_dist\n",
        "\n",
        "        dist_diff = abs(curr_plan_dist - closest_dist)\n",
        "        if closest_dist < curr_plan_dist or probability(temp, dist_diff):\n",
        "            curr_plan = closest\n",
        "            curr_plan_dist = closest_dist\n",
        "\n",
        "        temp = dec_temp(temp)\n",
        "\n",
        "    return list(filter(lambda day: len(day) > 0, best_plan))"
      ]
    },
    {
      "cell_type": "markdown",
      "metadata": {
        "id": "eGDB4K6uk1iN"
      },
      "source": [
        "(\\*)Calcula la complejidad del algoritmo\n"
      ]
    },
    {
      "cell_type": "markdown",
      "metadata": {
        "id": "NhpTh_BPk1ms"
      },
      "source": [
        "**Respuesta:** La complejidad computacional del algoritmo de Recocido Simulado (SA) no tiene una definición única y precisa, ya que depende de varios factores.\n",
        "\n",
        "En general, si $N$ es el número de iteraciones y $O(n)$ es la complejidad de evaluar la función objetivo, podríamos decir que la complejidad es:\n",
        "\n",
        "$$O(N,n) = N * O(n)$$\n",
        "\n",
        "Sin embargo, $N$ no es fijo y depende de las funciones de `dec_temp`, el valor inicial de la tempatura y la condición de parada del `while`.\n",
        "\n",
        "En este caso nuestra función objetivo `get_cost`, tiene una complejidad computacional de:\n",
        "\n",
        "$$O(n) = n^2$$\n",
        "\n",
        "Por lo tanto la complejidad computacional final es de:\n",
        "\n",
        "$$O(N,n) = N * n^2$$\n"
      ]
    },
    {
      "cell_type": "markdown",
      "metadata": {
        "id": "3M6QjTsSkmYe"
      },
      "source": [
        "Según el problema (y tenga sentido), diseña un juego de datos de entrada aleatorios\n"
      ]
    },
    {
      "cell_type": "code",
      "execution_count": 188,
      "metadata": {
        "id": "sJ-N2etjkyWc"
      },
      "outputs": [
        {
          "data": {
            "text/plain": [
              "'Planificación aleatoria de 9 tomas con 6 actores'"
            ]
          },
          "metadata": {},
          "output_type": "display_data"
        },
        {
          "data": {
            "text/plain": [
              "[[1, 1, 0, 0, 0, 0],\n",
              " [1, 1, 1, 1, 1, 1],\n",
              " [1, 1, 1, 1, 0, 1],\n",
              " [1, 1, 1, 1, 1, 1],\n",
              " [1, 0, 1, 1, 1, 1],\n",
              " [0, 1, 1, 1, 0, 0],\n",
              " [0, 0, 0, 0, 0, 1],\n",
              " [0, 0, 1, 1, 0, 0],\n",
              " [1, 1, 1, 1, 1, 1]]"
            ]
          },
          "metadata": {},
          "output_type": "display_data"
        }
      ],
      "source": [
        "def generate_schedule(n_days: int, n_actor: int) -> list[list]:\n",
        "    # generate empty schedule\n",
        "    schedule = [[] for _ in list(range(n_days))]\n",
        "\n",
        "    # iterate over amount of days\n",
        "    for i in range(n_days):\n",
        "        # get random numbers of actors\n",
        "        actors = random.sample(range(n_actor), random.randint(1, n_actor))\n",
        "\n",
        "        # generate boolean array to store\n",
        "        take_schedule = [int(j in actors) for j in range(n_actor)]\n",
        "\n",
        "        # save in schedule\n",
        "        schedule[i] = take_schedule\n",
        "\n",
        "    return schedule\n",
        "\n",
        "\n",
        "# At least 6 takes to 10\n",
        "n_takes = random.randint(6, 10)\n",
        "\n",
        "# At least 4 actors to 8\n",
        "n_actor = random.randint(4, 8)\n",
        "\n",
        "# Create new schedule\n",
        "random_schedule = generate_schedule(n_takes, n_actor)\n",
        "display(\n",
        "    f\"Planificación aleatoria de {n_takes} tomas con {n_actor} actores\", random_schedule\n",
        ")"
      ]
    },
    {
      "cell_type": "markdown",
      "metadata": {
        "id": "zy5ZROmjlGo1"
      },
      "source": [
        "Aplica el algoritmo al juego de datos generado\n"
      ]
    },
    {
      "cell_type": "code",
      "execution_count": 192,
      "metadata": {},
      "outputs": [
        {
          "name": "stderr",
          "output_type": "stream",
          "text": [
            "/opt/homebrew/anaconda3/lib/python3.11/site-packages/seaborn/_oldcore.py:1119: FutureWarning: use_inf_as_na option is deprecated and will be removed in a future version. Convert inf values to NaN before operating instead.\n",
            "  with pd.option_context('mode.use_inf_as_na', True):\n",
            "/opt/homebrew/anaconda3/lib/python3.11/site-packages/seaborn/_oldcore.py:1119: FutureWarning: use_inf_as_na option is deprecated and will be removed in a future version. Convert inf values to NaN before operating instead.\n",
            "  with pd.option_context('mode.use_inf_as_na', True):\n",
            "/opt/homebrew/anaconda3/lib/python3.11/site-packages/seaborn/_oldcore.py:1119: FutureWarning: use_inf_as_na option is deprecated and will be removed in a future version. Convert inf values to NaN before operating instead.\n",
            "  with pd.option_context('mode.use_inf_as_na', True):\n",
            "/opt/homebrew/anaconda3/lib/python3.11/site-packages/seaborn/_oldcore.py:1119: FutureWarning: use_inf_as_na option is deprecated and will be removed in a future version. Convert inf values to NaN before operating instead.\n",
            "  with pd.option_context('mode.use_inf_as_na', True):\n"
          ]
        },
        {
          "data": {
            "image/png": "[encoded data removed]",
            "text/plain": [
              "<Figure size 640x480 with 1 Axes>"
            ]
          },
          "metadata": {},
          "output_type": "display_data"
        }
      ],
      "source": [
        "import seaborn as sns\n",
        "import matplotlib.pyplot as plt\n",
        "from timeit import timeit\n",
        "\n",
        "execution_time_bf = []\n",
        "execution_time_sa = []\n",
        "input_sizes = list(range(6, 10))\n",
        "\n",
        "for n in input_sizes:\n",
        "    random_schedule = generate_schedule(n, 4)\n",
        "    execution_time_bf.append(\n",
        "        timeit(\n",
        "            lambda: get_planning_BF(random_schedule, max_takes_per_day=6),\n",
        "            number=1,\n",
        "        )\n",
        "    )\n",
        "    execution_time_sa.append(\n",
        "        timeit(\n",
        "            lambda: get_planning_SA(random_schedule, max_takes_per_day=6),\n",
        "            number=1,\n",
        "        )\n",
        "    )\n",
        "\n",
        "sns.lineplot(x=input_sizes, y=execution_time_bf, label=\"Brute force\")\n",
        "sns.lineplot(x=input_sizes, y=execution_time_sa, label=\"Simulated Annealing\")\n",
        "\n",
        "plt.xlabel(\"Cantidad de tomas\")\n",
        "plt.ylabel(\"Time (s)\")\n",
        "plt.title(\"Tiempo en calcular la planifacion para n cantidad de tomas\")\n",
        "\n",
        "plt.show()"
      ]
    },
    {
      "cell_type": "markdown",
      "metadata": {
        "id": "eTFWUJQrtGcv"
      },
      "source": [
        "Enumera las referencias que has utilizado(si ha sido necesario) para llevar a cabo el trabajo\n"
      ]
    },
    {
      "cell_type": "markdown",
      "metadata": {
        "id": "YKQ_mRBttWsP"
      },
      "source": [
        "**Respuesta**:\n",
        "\n",
        "- Capítulo de Heuristicas (Recocido Simulado), Guía de la asignatura\n",
        "- [Número de Bell, Wikipedia](https://es.wikipedia.org/wiki/N%C3%BAmero_de_Bell)\n",
        "-\n"
      ]
    },
    {
      "cell_type": "markdown",
      "metadata": {
        "id": "kAkDPUyRtYyH"
      },
      "source": [
        "Describe brevemente las lineas de como crees que es posible avanzar en el estudio del problema. Ten en cuenta incluso posibles variaciones del problema y/o variaciones al alza del tamaño\n"
      ]
    },
    {
      "cell_type": "markdown",
      "metadata": {
        "id": "IE0uZmo-tZu-"
      },
      "source": [
        "Respuesta\n"
      ]
    }
  ],
  "metadata": {
    "colab": {
      "provenance": []
    },
    "kernelspec": {
      "display_name": "Python 3",
      "name": "python3"
    },
    "language_info": {
      "codemirror_mode": {
        "name": "ipython",
        "version": 3
      },
      "file_extension": ".py",
      "mimetype": "text/x-python",
      "name": "python",
      "nbconvert_exporter": "python",
      "pygments_lexer": "ipython3",
      "version": "3.11.7"
    }
  },
  "nbformat": 4,
  "nbformat_minor": 0
}
